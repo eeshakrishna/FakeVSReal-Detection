{
 "cells": [
  {
   "cell_type": "code",
   "execution_count": 8,
   "id": "400f3aad",
   "metadata": {},
   "outputs": [],
   "source": [
    "import cv2\n",
    "import numpy as np\n",
    "from tensorflow.keras import layers\n",
    "from tensorflow.keras.applications import DenseNet121\n",
    "from tensorflow.keras.callbacks import Callback, ModelCheckpoint\n",
    "from tensorflow.keras.preprocessing.image import ImageDataGenerator\n",
    "from tensorflow.keras.models import Sequential\n",
    "from tensorflow.keras.optimizers import Adam\n",
    "import matplotlib.pyplot as plt\n",
    "import pandas as pd\n",
    "from sklearn.model_selection import train_test_split\n",
    "from sklearn import metrics\n",
    "import tensorflow as tf\n",
    "from tqdm import tqdm\n",
    "from keras.preprocessing import image"
   ]
  },
  {
   "cell_type": "code",
   "execution_count": 2,
   "id": "00ba879a",
   "metadata": {},
   "outputs": [],
   "source": [
    "def build_model(pretrained):\n",
    "    model = Sequential([\n",
    "        pretrained,\n",
    "        layers.GlobalAveragePooling2D(),\n",
    "        layers.Dense(1, activation='sigmoid')\n",
    "    ])\n",
    "    \n",
    "    model.compile(\n",
    "        loss='binary_crossentropy',\n",
    "        optimizer=Adam(),\n",
    "        metrics=['accuracy']\n",
    "    )\n",
    "    \n",
    "    return model"
   ]
  },
  {
   "cell_type": "code",
   "execution_count": 4,
   "id": "c644ce61",
   "metadata": {},
   "outputs": [
    {
     "name": "stdout",
     "output_type": "stream",
     "text": [
      "Found 99688 images belonging to 2 classes.\n"
     ]
    }
   ],
   "source": [
    "base_path = 'C:\\\\Users\\\\eesha\\\\OneDrive\\\\Desktop\\\\Mooncraft\\\\Cfake'   #set the path to the location of the Cfake folder\n",
    "image_gen = ImageDataGenerator(rescale=1./255.,\n",
    "                               rotation_range=20,\n",
    "                               #shear_range=0.2,\n",
    "                               #zoom_range=0.2,\n",
    "                               horizontal_flip=True)\n",
    "\n",
    "train_flow = image_gen.flow_from_directory(\n",
    "    base_path,\n",
    "    target_size=(32, 32),\n",
    "    batch_size=64,\n",
    "    class_mode='binary'\n",
    ")"
   ]
  },
  {
   "cell_type": "code",
   "execution_count": 5,
   "id": "75c93624",
   "metadata": {},
   "outputs": [
    {
     "name": "stdout",
     "output_type": "stream",
     "text": [
      "Found 216 images belonging to 2 classes.\n"
     ]
    }
   ],
   "source": [
    "image_gen1 = ImageDataGenerator(rescale=1./255.)\n",
    "\n",
    "valid_flow = image_gen1.flow_from_directory(\n",
    "    'C:\\\\Users\\\\eesha\\\\OneDrive\\\\Desktop\\\\Mooncraft\\\\train',  #set the location to the path of the testing folder \n",
    "    target_size=(32, 32),\n",
    "    batch_size=64,\n",
    "    class_mode='binary'\n",
    ")"
   ]
  },
  {
   "cell_type": "code",
   "execution_count": 6,
   "id": "f322affe",
   "metadata": {
    "scrolled": true
   },
   "outputs": [
    {
     "name": "stdout",
     "output_type": "stream",
     "text": [
      "Model: \"sequential\"\n",
      "_________________________________________________________________\n",
      " Layer (type)                Output Shape              Param #   \n",
      "=================================================================\n",
      " densenet121 (Functional)    (None, 1, 1, 1024)        7037504   \n",
      "                                                                 \n",
      " global_average_pooling2d (  (None, 1024)              0         \n",
      " GlobalAveragePooling2D)                                         \n",
      "                                                                 \n",
      " dense (Dense)               (None, 1)                 1025      \n",
      "                                                                 \n",
      "=================================================================\n",
      "Total params: 7038529 (26.85 MB)\n",
      "Trainable params: 6954881 (26.53 MB)\n",
      "Non-trainable params: 83648 (326.75 KB)\n",
      "_________________________________________________________________\n"
     ]
    }
   ],
   "source": [
    "densenet = DenseNet121(\n",
    "    weights=None,\n",
    "    include_top=False,\n",
    "    input_shape=(32,32,3)\n",
    ")\n",
    "model = build_model(densenet)\n",
    "model.summary()"
   ]
  },
  {
   "cell_type": "code",
   "execution_count": 7,
   "id": "76cf106f",
   "metadata": {
    "scrolled": true
   },
   "outputs": [
    {
     "name": "stdout",
     "output_type": "stream",
     "text": [
      "Epoch 1/5\n",
      "1557/1557 [==============================] - 1499s 943ms/step - loss: 0.3251 - accuracy: 0.8582 - val_loss: 0.6004 - val_accuracy: 0.7760\n",
      "Epoch 2/5\n",
      "1557/1557 [==============================] - 818s 526ms/step - loss: 0.2401 - accuracy: 0.9019 - val_loss: 1.1759 - val_accuracy: 0.5833\n",
      "Epoch 3/5\n",
      "1557/1557 [==============================] - 859s 552ms/step - loss: 0.2229 - accuracy: 0.9095 - val_loss: 0.1926 - val_accuracy: 0.9115\n",
      "Epoch 4/5\n",
      "1557/1557 [==============================] - 861s 553ms/step - loss: 0.1850 - accuracy: 0.9263 - val_loss: 0.6340 - val_accuracy: 0.7708\n",
      "Epoch 5/5\n",
      "1557/1557 [==============================] - 851s 546ms/step - loss: 0.1708 - accuracy: 0.9322 - val_loss: 0.4147 - val_accuracy: 0.8281\n"
     ]
    }
   ],
   "source": [
    "train_steps = 99688//64\n",
    "valid_steps = 216//64\n",
    "\n",
    "history = model.fit(\n",
    "    train_flow,\n",
    "    epochs = 5,\n",
    "    steps_per_epoch= train_steps,\n",
    "    validation_data= valid_flow,\n",
    "    validation_steps= valid_steps\n",
    ")"
   ]
  },
  {
   "cell_type": "code",
   "execution_count": 10,
   "id": "aa0e7df4",
   "metadata": {},
   "outputs": [],
   "source": [
    "save_path='C:\\\\Users\\\\eesha\\\\OneDrive\\\\Desktop\\\\Mooncraft\\\\'   #set the path to the directory where you want to save your trained model\n",
    "model_name='trained_model.keras'  #name of the model\n",
    "fpath=save_path+model_name\n",
    "model.save(fpath)"
   ]
  },
  {
   "cell_type": "code",
   "execution_count": 11,
   "id": "661b2098",
   "metadata": {},
   "outputs": [
    {
     "data": {
      "text/plain": [
       "{'FAKE': 0, 'REAL': 1}"
      ]
     },
     "execution_count": 11,
     "metadata": {},
     "output_type": "execute_result"
    }
   ],
   "source": [
    "train_flow.class_indices"
   ]
  },
  {
   "cell_type": "code",
   "execution_count": 12,
   "id": "3c2eb80c",
   "metadata": {},
   "outputs": [],
   "source": [
    "def ImagePrediction(loc):\n",
    "    loca=loc.replace('\\\\', '\\\\\\\\')\n",
    "    test_image = image.load_img(loca, target_size = (32,32))\n",
    "    plt.axis('off')\n",
    "    plt.imshow(test_image)\n",
    "    test_image = image.img_to_array(test_image)\n",
    "    test_image = np.expand_dims(test_image, axis =0)\n",
    "    result = model.predict(test_image)\n",
    "    if result[0][0] == 1:\n",
    "        predictions = 'Real'\n",
    "    else:\n",
    "        predictions = 'Fake'\n",
    "    print('Prediction: ',predictions)"
   ]
  },
  {
   "cell_type": "code",
   "execution_count": 13,
   "id": "aa4f9805",
   "metadata": {
    "scrolled": true
   },
   "outputs": [
    {
     "name": "stdout",
     "output_type": "stream",
     "text": [
      "Enter Location of Image to predict: C:\\Users\\eesha\\OneDrive\\Desktop\\Mooncraft\\valid\\fake\\1018 (6).jpg\n",
      "1/1 [==============================] - 2s 2s/step\n",
      "Prediction:  Real\n"
     ]
    },
    {
     "data": {
      "image/png": "[encoded data removed]",
      "text/plain": [
       "<Figure size 640x480 with 1 Axes>"
      ]
     },
     "metadata": {},
     "output_type": "display_data"
    }
   ],
   "source": [
    "img = input(\"Enter Location of Image to predict: \")  # enter the path of the image you want to detect (take images from the valid folder)\n",
    "test_image_1 = ImagePrediction(img)"
   ]
  },
  {
   "cell_type": "code",
   "execution_count": 14,
   "id": "8149b2e1",
   "metadata": {},
   "outputs": [
    {
     "name": "stdout",
     "output_type": "stream",
     "text": [
      "Found 96 images belonging to 2 classes.\n",
      "96/96 [==============================] - 3s 12ms/step\n"
     ]
    }
   ],
   "source": [
    "test_flow = image_gen1.flow_from_directory(\n",
    "    'C:\\\\Users\\\\eesha\\\\OneDrive\\\\Desktop\\\\Mooncraft\\\\valid',\n",
    "    target_size=(32, 32),\n",
    "    batch_size=1,\n",
    "    shuffle = False,\n",
    "    class_mode='binary'\n",
    ")\n",
    "y_pred=model.predict(test_flow)\n",
    "y_test = test_flow.classes"
   ]
  },
  {
   "cell_type": "code",
   "execution_count": 15,
   "id": "7996669b",
   "metadata": {},
   "outputs": [
    {
     "name": "stdout",
     "output_type": "stream",
     "text": [
      "ROC AUC Score: 0.98828125\n",
      "AP Score: 0.988404575142804\n",
      "\n",
      "              precision    recall  f1-score   support\n",
      "\n",
      "           0       0.78      0.98      0.87        48\n",
      "           1       0.97      0.73      0.83        48\n",
      "\n",
      "    accuracy                           0.85        96\n",
      "   macro avg       0.88      0.85      0.85        96\n",
      "weighted avg       0.88      0.85      0.85        96\n",
      "\n"
     ]
    }
   ],
   "source": [
    "print(\"ROC AUC Score:\", metrics.roc_auc_score(y_test, y_pred))\n",
    "print(\"AP Score:\", metrics.average_precision_score(y_test, y_pred))\n",
    "print()\n",
    "print(metrics.classification_report(y_test, y_pred > 0.5))"
   ]
  }
 ],
 "metadata": {
  "kernelspec": {
   "display_name": "Python 3 (ipykernel)",
   "language": "python",
   "name": "python3"
  },
  "language_info": {
   "codemirror_mode": {
    "name": "ipython",
    "version": 3
   },
   "file_extension": ".py",
   "mimetype": "text/x-python",
   "name": "python",
   "nbconvert_exporter": "python",
   "pygments_lexer": "ipython3",
   "version": "3.8.13"
  }
 },
 "nbformat": 4,
 "nbformat_minor": 5
}
